{
  "nbformat": 4,
  "nbformat_minor": 0,
  "metadata": {
    "colab": {
      "name": "UCI ML.ipynb",
      "provenance": [],
      "collapsed_sections": [],
      "include_colab_link": true
    },
    "kernelspec": {
      "display_name": "Python 3",
      "name": "python3"
    }
  },
  "cells": [
    {
      "cell_type": "markdown",
      "metadata": {
        "id": "view-in-github",
        "colab_type": "text"
      },
      "source": [
        "<a href=\"https://colab.research.google.com/github/Alex193/UCI_dataset_Neural_Network/blob/main/UCI_Neural_Network.ipynb\" target=\"_parent\"><img src=\"https://colab.research.google.com/assets/colab-badge.svg\" alt=\"Open In Colab\"/></a>"
      ]
    },
    {
      "cell_type": "code",
      "metadata": {
        "id": "PYnahILyF7Wu"
      },
      "source": [
        "import pandas\n",
        "import matplotlib \n",
        "from matplotlib import pyplot as plt\n",
        "import numpy as np\n",
        "from keras.models import Sequential\n",
        "from keras.layers.core import Dense,Activation, Dropout\n",
        "from keras.optimizers import Adam\n",
        "from keras.utils import np_utils\n",
        "from sklearn import preprocessing\n",
        "from sklearn.preprocessing import MinMaxScaler\n",
        "from sklearn.utils import shuffle\n",
        "from sklearn import model_selection"
      ],
      "execution_count": null,
      "outputs": []
    },
    {
      "cell_type": "code",
      "metadata": {
        "id": "eKONIMuJRXXy"
      },
      "source": [
        "my_epoch = 20\n",
        "my_classes = 5\n",
        "my_batch_size = 128\n",
        "val_split = 0.2\n",
        "#sgd = SGD(lr=0.01, nesterov=True);"
      ],
      "execution_count": null,
      "outputs": []
    },
    {
      "cell_type": "code",
      "metadata": {
        "colab": {
          "base_uri": "https://localhost:8080/"
        },
        "id": "pxUKbnqDJFfk",
        "outputId": "a082d6ca-2e7b-4e0e-bb41-58639ba0dac6"
      },
      "source": [
        "headers = ['age','sex','cp','trestbps','chol','fbs','restecg','thalach','exang','oldpeak','slope','ca','thal','num_the predicted attribute']\n",
        "print(len(headers))\n",
        "Data = pandas.read_table('https://archive.ics.uci.edu/ml/machine-learning-databases/heart-disease/processed.cleveland.data', sep=',', names=headers ,parse_dates=True, delim_whitespace=False)\n",
        "#Data = Data.to_numpy\n",
        "'''for names in headers:\n",
        "  Data[names].replace('?',np.nan,inplace=True)'''\n",
        "#Data = pandas.DataFrame(pandas.np.random.random(270))\n",
        "Data = Data[~Data.isin(['?'])]\n",
        "Data = Data.dropna(axis=0)       #выкидываем ряды с пропусками\n",
        "Data = Data.apply(pandas.to_numeric)\n",
        "\n",
        "#Data = Data.shuffle(100).repeat().batch(10)\n",
        "#Data.shuffle(buffer_size=5).repeat().batch(3)\n",
        "print (Data)"
      ],
      "execution_count": null,
      "outputs": [
        {
          "output_type": "stream",
          "text": [
            "14\n",
            "      age  sex   cp  trestbps  ...  slope   ca  thal  num_the predicted attribute\n",
            "0    63.0  1.0  1.0     145.0  ...    3.0  0.0   6.0                            0\n",
            "1    67.0  1.0  4.0     160.0  ...    2.0  3.0   3.0                            2\n",
            "2    67.0  1.0  4.0     120.0  ...    2.0  2.0   7.0                            1\n",
            "3    37.0  1.0  3.0     130.0  ...    3.0  0.0   3.0                            0\n",
            "4    41.0  0.0  2.0     130.0  ...    1.0  0.0   3.0                            0\n",
            "..    ...  ...  ...       ...  ...    ...  ...   ...                          ...\n",
            "297  57.0  0.0  4.0     140.0  ...    2.0  0.0   7.0                            1\n",
            "298  45.0  1.0  1.0     110.0  ...    2.0  0.0   7.0                            1\n",
            "299  68.0  1.0  4.0     144.0  ...    2.0  2.0   7.0                            2\n",
            "300  57.0  1.0  4.0     130.0  ...    2.0  1.0   7.0                            3\n",
            "301  57.0  0.0  2.0     130.0  ...    2.0  1.0   3.0                            1\n",
            "\n",
            "[297 rows x 14 columns]\n"
          ],
          "name": "stdout"
        }
      ]
    },
    {
      "cell_type": "code",
      "metadata": {
        "id": "zDz69FPekGtF",
        "colab": {
          "base_uri": "https://localhost:8080/"
        },
        "outputId": "9d0c7d23-f3cb-449e-9f4e-2236faacc327"
      },
      "source": [
        "#если нам надо будет нормировать данные, сделаем это здесь\n",
        "# Normalize data\n",
        "\n",
        "x = Data.values #returns a numpy array\n",
        "min_max_scaler = preprocessing.MinMaxScaler()\n",
        "x_scaled = min_max_scaler.fit_transform(x)\n",
        "Data = pandas.DataFrame(x_scaled)\n",
        "Data = shuffle(Data)\n",
        "print (Data)"
      ],
      "execution_count": null,
      "outputs": [
        {
          "output_type": "stream",
          "text": [
            "           0    1         2         3   ...   10        11    12    13\n",
            "138  0.458333  1.0  0.666667  0.292453  ...  0.5  0.000000  0.00  0.00\n",
            "36   0.291667  1.0  1.000000  0.245283  ...  0.5  0.000000  1.00  0.75\n",
            "132  0.458333  1.0  1.000000  0.433962  ...  0.0  0.000000  0.00  0.00\n",
            "47   0.437500  1.0  1.000000  0.528302  ...  0.5  0.000000  1.00  1.00\n",
            "117  0.708333  1.0  1.000000  0.339623  ...  0.0  1.000000  1.00  0.75\n",
            "..        ...  ...       ...       ...  ...  ...       ...   ...   ...\n",
            "73   0.750000  1.0  1.000000  0.150943  ...  0.0  0.666667  0.75  0.25\n",
            "160  1.000000  1.0  1.000000  0.292453  ...  0.0  1.000000  0.00  1.00\n",
            "296  0.583333  0.0  0.333333  0.339623  ...  0.5  0.333333  0.00  0.25\n",
            "203  0.604167  1.0  1.000000  0.320755  ...  0.5  0.666667  1.00  0.75\n",
            "131  0.000000  1.0  0.333333  0.339623  ...  0.0  0.000000  0.00  0.00\n",
            "\n",
            "[297 rows x 14 columns]\n"
          ],
          "name": "stdout"
        }
      ]
    },
    {
      "cell_type": "code",
      "metadata": {
        "colab": {
          "base_uri": "https://localhost:8080/"
        },
        "id": "WpXHF1O2PtKk",
        "outputId": "3806bbf6-c81c-4bbb-fe48-025b52baa738"
      },
      "source": [
        "#берем из датасета столбцы и гоним в numpy.ndarray, как в keras\n",
        "rows_num = len(Data.index) \n",
        "columns_num = len(Data.columns)\n",
        "x_train = Data.iloc[:260, :13].to_numpy()\n",
        "print(x_train)\n",
        "y_train = Data.iloc[:260, 13:].to_numpy().reshape(-1)\n",
        "print(y_train)\n",
        "\n",
        "x_test = Data.iloc[260:, :13].to_numpy()\n",
        "print(x_test)\n",
        "y_test = Data.iloc[260:, 13:].to_numpy().reshape(-1)\n",
        "print(y_test)"
      ],
      "execution_count": null,
      "outputs": [
        {
          "output_type": "stream",
          "text": [
            "[[0.45833333 1.         0.66666667 ... 0.5        0.         0.        ]\n",
            " [0.29166667 1.         1.         ... 0.5        0.         1.        ]\n",
            " [0.45833333 1.         1.         ... 0.         0.         0.        ]\n",
            " ...\n",
            " [0.47916667 0.         0.66666667 ... 0.5        0.         0.        ]\n",
            " [0.79166667 0.         0.66666667 ... 0.         0.33333333 0.        ]\n",
            " [0.64583333 0.         1.         ... 0.5        0.66666667 1.        ]]\n",
            "[0.   0.75 0.   1.   0.75 0.5  0.   0.75 0.25 0.5  0.   0.   0.75 0.25\n",
            " 0.   0.   0.   0.25 0.25 0.   0.5  0.75 0.5  0.   0.   0.   0.75 0.5\n",
            " 0.25 0.75 0.5  0.   0.25 0.75 1.   0.   0.5  0.   0.   0.   0.5  0.\n",
            " 0.   0.   0.   0.   0.5  0.   0.5  0.75 0.5  0.75 0.   0.25 0.5  0.\n",
            " 0.   0.25 0.75 0.   0.5  0.25 0.5  0.   0.   0.25 1.   0.   0.25 0.\n",
            " 1.   0.   0.   0.25 0.   0.5  0.   0.75 0.   0.25 0.   0.   0.   0.\n",
            " 0.   0.5  0.   0.   0.   0.5  0.5  0.25 0.25 0.   0.   0.25 0.75 0.25\n",
            " 0.   0.   0.   0.   0.   0.   0.25 0.   0.   0.   1.   0.   0.75 0.\n",
            " 0.   1.   0.   0.5  0.   0.   0.25 0.75 0.   0.   0.   0.   0.75 0.\n",
            " 0.75 0.   0.25 0.5  0.75 0.   0.25 0.   0.   0.   0.   0.   0.   0.75\n",
            " 0.25 0.   0.   0.   0.   0.   1.   1.   0.   0.25 0.   0.5  0.25 0.\n",
            " 0.   0.25 0.25 0.   0.   0.75 0.25 0.   0.5  0.25 0.   0.75 0.   0.\n",
            " 0.   0.   0.   0.75 0.75 0.25 0.   0.5  0.   0.   0.25 0.25 0.   0.5\n",
            " 0.5  0.   0.25 0.   0.25 1.   0.   0.75 0.75 0.25 0.   0.   0.   0.25\n",
            " 0.25 0.   0.25 0.   0.   0.75 0.   0.   0.25 0.   0.   0.   0.   0.75\n",
            " 0.   0.5  1.   0.75 0.25 0.5  0.5  0.   0.25 0.   0.   0.   0.   0.\n",
            " 0.   0.   0.   0.25 0.   0.5  0.   0.5  0.   0.   0.   0.5  0.5  0.\n",
            " 0.   0.5  1.   0.   0.25 0.25 0.   0.   0.   0.   0.25 0.   0.   0.\n",
            " 0.25 0.   0.   0.   0.   0.   0.   0.75]\n",
            "[[0.45833333 1.         1.         0.43396226 0.39497717 0.\n",
            "  0.         0.77862595 1.         0.25806452 0.         0.\n",
            "  1.        ]\n",
            " [0.45833333 0.         0.66666667 0.24528302 0.38584475 0.\n",
            "  1.         0.65648855 0.         0.09677419 0.         0.\n",
            "  0.        ]\n",
            " [0.125      1.         1.         0.30188679 0.35616438 0.\n",
            "  1.         0.64885496 1.         0.         0.         0.\n",
            "  1.        ]\n",
            " [0.6875     0.         1.         0.28301887 0.18949772 0.\n",
            "  0.         0.70229008 0.         0.         0.         0.\n",
            "  0.        ]\n",
            " [0.72916667 1.         1.         0.24528302 0.2739726  0.\n",
            "  1.         0.19083969 1.         0.35483871 1.         0.33333333\n",
            "  0.        ]\n",
            " [0.22916667 1.         1.         0.54716981 0.22146119 0.\n",
            "  0.         0.83969466 0.         0.         0.         0.\n",
            "  1.        ]\n",
            " [0.3125     1.         0.66666667 0.33962264 0.24429224 0.\n",
            "  0.         0.82442748 1.         0.06451613 0.         0.\n",
            "  0.        ]\n",
            " [0.3125     1.         0.66666667 0.24528302 0.2283105  0.\n",
            "  0.         0.7480916  0.         0.         0.         0.\n",
            "  0.        ]\n",
            " [0.79166667 1.         1.         0.29245283 0.29223744 1.\n",
            "  0.         0.70229008 0.         0.03225806 0.5        0.66666667\n",
            "  1.        ]\n",
            " [0.75       1.         0.         0.41509434 0.35616438 1.\n",
            "  1.         0.78625954 0.         0.22580645 0.5        0.33333333\n",
            "  0.        ]\n",
            " [0.6875     0.         1.         0.43396226 0.32420091 0.\n",
            "  1.         0.67938931 0.         0.58064516 1.         0.66666667\n",
            "  0.        ]\n",
            " [0.47916667 1.         0.         0.54716981 0.39269406 1.\n",
            "  0.         0.81679389 0.         0.19354839 0.5        0.\n",
            "  1.        ]\n",
            " [0.41666667 0.         1.         0.33962264 0.32648402 0.\n",
            "  0.         0.70229008 0.         0.         0.         0.\n",
            "  0.        ]\n",
            " [0.5625     1.         1.         0.33962264 0.35844749 1.\n",
            "  1.         0.24427481 1.         0.25806452 1.         0.\n",
            "  1.        ]\n",
            " [0.52083333 0.         0.33333333 0.35849057 0.36986301 1.\n",
            "  1.         0.67175573 1.         0.         0.         0.33333333\n",
            "  0.        ]\n",
            " [0.375      1.         1.         0.1509434  0.34018265 0.\n",
            "  1.         0.35877863 1.         0.16129032 0.5        0.33333333\n",
            "  0.        ]\n",
            " [0.39583333 0.         0.66666667 0.33962264 0.34018265 0.\n",
            "  0.         0.51908397 0.         0.03225806 0.         0.\n",
            "  0.        ]\n",
            " [0.54166667 0.         0.33333333 0.35849057 0.49315068 0.\n",
            "  0.         0.72519084 0.         0.19354839 0.         0.\n",
            "  0.        ]\n",
            " [0.70833333 0.         1.         0.28301887 0.16210046 0.\n",
            "  0.         0.49618321 1.         0.         0.5        0.\n",
            "  0.        ]\n",
            " [0.5        1.         0.66666667 0.33962264 0.16210046 1.\n",
            "  1.         0.61832061 0.         0.19354839 1.         0.\n",
            "  0.        ]\n",
            " [0.83333333 0.         0.         0.43396226 0.25799087 0.\n",
            "  0.         0.61068702 0.         0.29032258 0.         0.66666667\n",
            "  0.        ]\n",
            " [0.58333333 1.         0.66666667 0.32075472 0.23515982 0.\n",
            "  1.         0.60305344 0.         0.06451613 0.5        0.33333333\n",
            "  1.        ]\n",
            " [0.875      0.         0.33333333 0.62264151 0.40182648 0.\n",
            "  0.         0.69465649 0.         0.06451613 0.         0.66666667\n",
            "  0.        ]\n",
            " [0.5625     0.         1.         1.         0.36986301 1.\n",
            "  1.         0.47328244 1.         0.64516129 1.         0.66666667\n",
            "  1.        ]\n",
            " [0.29166667 1.         1.         0.19811321 0.40410959 0.\n",
            "  0.         0.83969466 0.         0.19354839 0.5        0.\n",
            "  0.        ]\n",
            " [0.79166667 1.         1.         0.24528302 0.25342466 0.\n",
            "  0.         0.         0.         0.16129032 0.5        0.\n",
            "  0.        ]\n",
            " [0.60416667 0.         1.         0.05660377 0.27853881 0.\n",
            "  1.         0.38931298 0.         0.16129032 0.5        0.\n",
            "  0.        ]\n",
            " [0.45833333 1.         1.         0.43396226 0.39269406 0.\n",
            "  0.         0.38931298 1.         0.67741935 0.5        1.\n",
            "  1.        ]\n",
            " [0.60416667 1.         0.66666667 0.16981132 0.23744292 0.\n",
            "  1.         0.71755725 0.         0.40322581 0.5        0.33333333\n",
            "  1.        ]\n",
            " [0.22916667 1.         0.         0.43396226 0.16666667 0.\n",
            "  0.         0.81679389 1.         0.22580645 0.         0.\n",
            "  1.        ]\n",
            " [0.20833333 0.         0.66666667 0.41509434 0.21461187 0.\n",
            "  0.         0.61832061 0.         0.         0.5        0.\n",
            "  0.        ]\n",
            " [0.20833333 0.         0.66666667 0.         0.16666667 0.\n",
            "  0.         0.82442748 0.         0.         0.         0.\n",
            "  0.        ]\n",
            " [0.75       1.         1.         0.1509434  0.27853881 0.\n",
            "  1.         0.66412214 0.         0.09677419 0.         0.66666667\n",
            "  0.75      ]\n",
            " [1.         1.         1.         0.29245283 0.40639269 0.\n",
            "  1.         0.69465649 1.         0.         0.         1.\n",
            "  0.        ]\n",
            " [0.58333333 0.         0.33333333 0.33962264 0.25114155 0.\n",
            "  1.         0.78625954 0.         0.         0.5        0.33333333\n",
            "  0.        ]\n",
            " [0.60416667 1.         1.         0.32075472 0.30365297 0.\n",
            "  1.         0.45038168 1.         0.48387097 0.5        0.66666667\n",
            "  1.        ]\n",
            " [0.         1.         0.33333333 0.33962264 0.17808219 0.\n",
            "  1.         1.         0.         0.         0.         0.\n",
            "  0.        ]]\n",
            "[0.25 0.   0.25 0.   0.75 0.25 0.   0.   0.75 0.25 0.75 0.   0.   0.5\n",
            " 0.   0.25 0.   0.   0.25 0.   0.   0.25 0.   0.75 0.   0.5  0.   0.75\n",
            " 1.   0.   0.   0.   0.25 1.   0.25 0.75 0.  ]\n"
          ],
          "name": "stdout"
        }
      ]
    },
    {
      "cell_type": "code",
      "metadata": {
        "id": "ErlPGEEmoem0",
        "colab": {
          "base_uri": "https://localhost:8080/"
        },
        "outputId": "1a8d69dc-bc33-468b-c874-1debcad334fe"
      },
      "source": [
        "x_train = x_train.astype('float32')#работаем с float\n",
        "x_test = x_test.astype('float32')\n",
        "\n",
        "y_train = np_utils.to_categorical(y_train, my_classes)\n",
        "y_test = np_utils.to_categorical(y_test, my_classes)\n",
        "print(x_train)\n",
        "print(x_test)"
      ],
      "execution_count": null,
      "outputs": [
        {
          "output_type": "stream",
          "text": [
            "[[0.45833334 1.         0.6666667  ... 0.5        0.         0.        ]\n",
            " [0.29166666 1.         1.         ... 0.5        0.         1.        ]\n",
            " [0.45833334 1.         1.         ... 0.         0.         0.        ]\n",
            " ...\n",
            " [0.47916666 0.         0.6666667  ... 0.5        0.         0.        ]\n",
            " [0.7916667  0.         0.6666667  ... 0.         0.33333334 0.        ]\n",
            " [0.6458333  0.         1.         ... 0.5        0.6666667  1.        ]]\n",
            "[[0.45833334 1.         1.         0.43396226 0.39497718 0.\n",
            "  0.         0.77862597 1.         0.2580645  0.         0.\n",
            "  1.        ]\n",
            " [0.45833334 0.         0.6666667  0.24528302 0.38584474 0.\n",
            "  1.         0.65648854 0.         0.09677419 0.         0.\n",
            "  0.        ]\n",
            " [0.125      1.         1.         0.3018868  0.3561644  0.\n",
            "  1.         0.648855   1.         0.         0.         0.\n",
            "  1.        ]\n",
            " [0.6875     0.         1.         0.28301886 0.18949772 0.\n",
            "  0.         0.70229006 0.         0.         0.         0.\n",
            "  0.        ]\n",
            " [0.7291667  1.         1.         0.24528302 0.2739726  0.\n",
            "  1.         0.1908397  1.         0.3548387  1.         0.33333334\n",
            "  0.        ]\n",
            " [0.22916667 1.         1.         0.5471698  0.22146119 0.\n",
            "  0.         0.8396947  0.         0.         0.         0.\n",
            "  1.        ]\n",
            " [0.3125     1.         0.6666667  0.33962265 0.24429224 0.\n",
            "  0.         0.8244275  1.         0.06451613 0.         0.\n",
            "  0.        ]\n",
            " [0.3125     1.         0.6666667  0.24528302 0.2283105  0.\n",
            "  0.         0.7480916  0.         0.         0.         0.\n",
            "  0.        ]\n",
            " [0.7916667  1.         1.         0.29245284 0.29223743 1.\n",
            "  0.         0.70229006 0.         0.03225806 0.5        0.6666667\n",
            "  1.        ]\n",
            " [0.75       1.         0.         0.41509435 0.3561644  1.\n",
            "  1.         0.78625953 0.         0.22580644 0.5        0.33333334\n",
            "  0.        ]\n",
            " [0.6875     0.         1.         0.43396226 0.3242009  0.\n",
            "  1.         0.6793893  0.         0.58064514 1.         0.6666667\n",
            "  0.        ]\n",
            " [0.47916666 1.         0.         0.5471698  0.39269406 1.\n",
            "  0.         0.8167939  0.         0.19354838 0.5        0.\n",
            "  1.        ]\n",
            " [0.41666666 0.         1.         0.33962265 0.32648402 0.\n",
            "  0.         0.70229006 0.         0.         0.         0.\n",
            "  0.        ]\n",
            " [0.5625     1.         1.         0.33962265 0.3584475  1.\n",
            "  1.         0.24427481 1.         0.2580645  1.         0.\n",
            "  1.        ]\n",
            " [0.5208333  0.         0.33333334 0.35849056 0.369863   1.\n",
            "  1.         0.67175573 1.         0.         0.         0.33333334\n",
            "  0.        ]\n",
            " [0.375      1.         1.         0.1509434  0.34018266 0.\n",
            "  1.         0.35877863 1.         0.16129032 0.5        0.33333334\n",
            "  0.        ]\n",
            " [0.39583334 0.         0.6666667  0.33962265 0.34018266 0.\n",
            "  0.         0.519084   0.         0.03225806 0.         0.\n",
            "  0.        ]\n",
            " [0.5416667  0.         0.33333334 0.35849056 0.49315068 0.\n",
            "  0.         0.7251908  0.         0.19354838 0.         0.\n",
            "  0.        ]\n",
            " [0.7083333  0.         1.         0.28301886 0.16210045 0.\n",
            "  0.         0.49618322 1.         0.         0.5        0.\n",
            "  0.        ]\n",
            " [0.5        1.         0.6666667  0.33962265 0.16210045 1.\n",
            "  1.         0.6183206  0.         0.19354838 1.         0.\n",
            "  0.        ]\n",
            " [0.8333333  0.         0.         0.43396226 0.25799087 0.\n",
            "  0.         0.610687   0.         0.29032257 0.         0.6666667\n",
            "  0.        ]\n",
            " [0.5833333  1.         0.6666667  0.3207547  0.23515981 0.\n",
            "  1.         0.60305345 0.         0.06451613 0.5        0.33333334\n",
            "  1.        ]\n",
            " [0.875      0.         0.33333334 0.6226415  0.40182647 0.\n",
            "  0.         0.6946565  0.         0.06451613 0.         0.6666667\n",
            "  0.        ]\n",
            " [0.5625     0.         1.         1.         0.369863   1.\n",
            "  1.         0.47328246 1.         0.6451613  1.         0.6666667\n",
            "  1.        ]\n",
            " [0.29166666 1.         1.         0.1981132  0.4041096  0.\n",
            "  0.         0.8396947  0.         0.19354838 0.5        0.\n",
            "  0.        ]\n",
            " [0.7916667  1.         1.         0.24528302 0.25342464 0.\n",
            "  0.         0.         0.         0.16129032 0.5        0.\n",
            "  0.        ]\n",
            " [0.6041667  0.         1.         0.05660377 0.27853882 0.\n",
            "  1.         0.38931298 0.         0.16129032 0.5        0.\n",
            "  0.        ]\n",
            " [0.45833334 1.         1.         0.43396226 0.39269406 0.\n",
            "  0.         0.38931298 1.         0.67741936 0.5        1.\n",
            "  1.        ]\n",
            " [0.6041667  1.         0.6666667  0.16981132 0.23744293 0.\n",
            "  1.         0.71755725 0.         0.4032258  0.5        0.33333334\n",
            "  1.        ]\n",
            " [0.22916667 1.         0.         0.43396226 0.16666667 0.\n",
            "  0.         0.8167939  1.         0.22580644 0.         0.\n",
            "  1.        ]\n",
            " [0.20833333 0.         0.6666667  0.41509435 0.21461187 0.\n",
            "  0.         0.6183206  0.         0.         0.5        0.\n",
            "  0.        ]\n",
            " [0.20833333 0.         0.6666667  0.         0.16666667 0.\n",
            "  0.         0.8244275  0.         0.         0.         0.\n",
            "  0.        ]\n",
            " [0.75       1.         1.         0.1509434  0.27853882 0.\n",
            "  1.         0.66412216 0.         0.09677419 0.         0.6666667\n",
            "  0.75      ]\n",
            " [1.         1.         1.         0.29245284 0.4063927  0.\n",
            "  1.         0.6946565  1.         0.         0.         1.\n",
            "  0.        ]\n",
            " [0.5833333  0.         0.33333334 0.33962265 0.25114155 0.\n",
            "  1.         0.78625953 0.         0.         0.5        0.33333334\n",
            "  0.        ]\n",
            " [0.6041667  1.         1.         0.3207547  0.30365297 0.\n",
            "  1.         0.45038167 1.         0.48387095 0.5        0.6666667\n",
            "  1.        ]\n",
            " [0.         1.         0.33333334 0.33962265 0.1780822  0.\n",
            "  1.         1.         0.         0.         0.         0.\n",
            "  0.        ]]\n"
          ],
          "name": "stdout"
        }
      ]
    },
    {
      "cell_type": "code",
      "metadata": {
        "colab": {
          "base_uri": "https://localhost:8080/"
        },
        "id": "nW5mnxtVkXUg",
        "outputId": "fd453907-1089-4314-c9c0-f39dff34d174"
      },
      "source": [
        "UCImodel = Sequential()\n",
        "UCImodel.add(Dense(32, input_shape = (13, )))\n",
        "UCImodel.add(Activation ('relu'))\n",
        "#UCImodel.add(Dropout(0.1))\n",
        "\n",
        "UCImodel.add(Dense(32))\n",
        "UCImodel.add(Activation ('relu'))\n",
        "UCImodel.add(Dropout(0.1))\n",
        "\n",
        "UCImodel.add(Dense(16))\n",
        "UCImodel.add(Activation ('relu'))\n",
        "#UCImodel.add(Dropout(0.1))\n",
        "\n",
        "\n",
        "UCImodel.add(Dense(my_classes))\n",
        "UCImodel.add(Activation ('softmax'))\n",
        "UCImodel.summary()\n",
        "\n",
        "\n"
      ],
      "execution_count": null,
      "outputs": [
        {
          "output_type": "stream",
          "text": [
            "Model: \"sequential\"\n",
            "_________________________________________________________________\n",
            "Layer (type)                 Output Shape              Param #   \n",
            "=================================================================\n",
            "dense (Dense)                (None, 32)                448       \n",
            "_________________________________________________________________\n",
            "activation (Activation)      (None, 32)                0         \n",
            "_________________________________________________________________\n",
            "dense_1 (Dense)              (None, 32)                1056      \n",
            "_________________________________________________________________\n",
            "activation_1 (Activation)    (None, 32)                0         \n",
            "_________________________________________________________________\n",
            "dropout (Dropout)            (None, 32)                0         \n",
            "_________________________________________________________________\n",
            "dense_2 (Dense)              (None, 16)                528       \n",
            "_________________________________________________________________\n",
            "activation_2 (Activation)    (None, 16)                0         \n",
            "_________________________________________________________________\n",
            "dense_3 (Dense)              (None, 5)                 85        \n",
            "_________________________________________________________________\n",
            "activation_3 (Activation)    (None, 5)                 0         \n",
            "=================================================================\n",
            "Total params: 2,117\n",
            "Trainable params: 2,117\n",
            "Non-trainable params: 0\n",
            "_________________________________________________________________\n"
          ],
          "name": "stdout"
        }
      ]
    },
    {
      "cell_type": "code",
      "metadata": {
        "colab": {
          "base_uri": "https://localhost:8080/"
        },
        "id": "EokkIgybtoRZ",
        "outputId": "a763612e-d17f-4796-deef-6c872ee4884e"
      },
      "source": [
        "UCImodel.compile(loss = 'categorical_crossentropy',\n",
        "                 optimizer = 'adam',\n",
        "                 metrics = ['accuracy'],\n",
        "                 )\n",
        "history = UCImodel.fit(x_train,\n",
        "                    y_train,\n",
        "                    batch_size = my_batch_size,\n",
        "                    epochs = my_epoch,\n",
        "                    validation_split=0.3)\n",
        "                   #shuffle=True)"
      ],
      "execution_count": null,
      "outputs": [
        {
          "output_type": "stream",
          "text": [
            "Epoch 1/20\n",
            "2/2 [==============================] - 0s 95ms/step - loss: 1.6640 - accuracy: 0.0604 - val_loss: 1.6117 - val_accuracy: 0.0513\n",
            "Epoch 2/20\n",
            "2/2 [==============================] - 0s 11ms/step - loss: 1.6077 - accuracy: 0.1209 - val_loss: 1.5458 - val_accuracy: 0.1538\n",
            "Epoch 3/20\n",
            "2/2 [==============================] - 0s 11ms/step - loss: 1.5333 - accuracy: 0.2363 - val_loss: 1.4842 - val_accuracy: 0.3333\n",
            "Epoch 4/20\n",
            "2/2 [==============================] - 0s 10ms/step - loss: 1.4717 - accuracy: 0.4725 - val_loss: 1.4265 - val_accuracy: 0.6282\n",
            "Epoch 5/20\n",
            "2/2 [==============================] - 0s 11ms/step - loss: 1.4217 - accuracy: 0.6703 - val_loss: 1.3715 - val_accuracy: 0.8590\n",
            "Epoch 6/20\n",
            "2/2 [==============================] - 0s 10ms/step - loss: 1.3618 - accuracy: 0.8462 - val_loss: 1.3188 - val_accuracy: 0.9615\n",
            "Epoch 7/20\n",
            "2/2 [==============================] - 0s 10ms/step - loss: 1.3122 - accuracy: 0.9176 - val_loss: 1.2682 - val_accuracy: 0.9615\n",
            "Epoch 8/20\n",
            "2/2 [==============================] - 0s 10ms/step - loss: 1.2553 - accuracy: 0.9396 - val_loss: 1.2193 - val_accuracy: 0.9615\n",
            "Epoch 9/20\n",
            "2/2 [==============================] - 0s 10ms/step - loss: 1.2085 - accuracy: 0.9451 - val_loss: 1.1708 - val_accuracy: 0.9615\n",
            "Epoch 10/20\n",
            "2/2 [==============================] - 0s 11ms/step - loss: 1.1513 - accuracy: 0.9505 - val_loss: 1.1206 - val_accuracy: 0.9615\n",
            "Epoch 11/20\n",
            "2/2 [==============================] - 0s 10ms/step - loss: 1.1082 - accuracy: 0.9560 - val_loss: 1.0673 - val_accuracy: 0.9615\n",
            "Epoch 12/20\n",
            "2/2 [==============================] - 0s 11ms/step - loss: 1.0400 - accuracy: 0.9560 - val_loss: 1.0112 - val_accuracy: 0.9615\n",
            "Epoch 13/20\n",
            "2/2 [==============================] - 0s 10ms/step - loss: 0.9879 - accuracy: 0.9560 - val_loss: 0.9529 - val_accuracy: 0.9615\n",
            "Epoch 14/20\n",
            "2/2 [==============================] - 0s 10ms/step - loss: 0.9280 - accuracy: 0.9560 - val_loss: 0.8926 - val_accuracy: 0.9615\n",
            "Epoch 15/20\n",
            "2/2 [==============================] - 0s 11ms/step - loss: 0.8721 - accuracy: 0.9560 - val_loss: 0.8313 - val_accuracy: 0.9615\n",
            "Epoch 16/20\n",
            "2/2 [==============================] - 0s 12ms/step - loss: 0.8153 - accuracy: 0.9560 - val_loss: 0.7700 - val_accuracy: 0.9615\n",
            "Epoch 17/20\n",
            "2/2 [==============================] - 0s 11ms/step - loss: 0.7424 - accuracy: 0.9560 - val_loss: 0.7091 - val_accuracy: 0.9615\n",
            "Epoch 18/20\n",
            "2/2 [==============================] - 0s 10ms/step - loss: 0.6850 - accuracy: 0.9560 - val_loss: 0.6497 - val_accuracy: 0.9615\n",
            "Epoch 19/20\n",
            "2/2 [==============================] - 0s 13ms/step - loss: 0.6251 - accuracy: 0.9560 - val_loss: 0.5922 - val_accuracy: 0.9615\n",
            "Epoch 20/20\n",
            "2/2 [==============================] - 0s 11ms/step - loss: 0.5721 - accuracy: 0.9560 - val_loss: 0.5380 - val_accuracy: 0.9615\n"
          ],
          "name": "stdout"
        }
      ]
    },
    {
      "cell_type": "code",
      "metadata": {
        "colab": {
          "base_uri": "https://localhost:8080/"
        },
        "id": "1egLXaX3uI1b",
        "outputId": "39976f19-8a00-47ac-84d3-d27b6c7bcf96"
      },
      "source": [
        "print(\"Testing\")\n",
        "score = UCImodel.evaluate(x_test,y_test,batch_size = my_batch_size,verbose = 1)\n",
        "print(\"\\nTest score:\", score[0])\n",
        "print('Test accuracy:', score[1])"
      ],
      "execution_count": null,
      "outputs": [
        {
          "output_type": "stream",
          "text": [
            "Testing\n",
            "1/1 [==============================] - 0s 1ms/step - loss: 0.5401 - accuracy: 0.9459\n",
            "\n",
            "Test score: 0.5401018261909485\n",
            "Test accuracy: 0.9459459185600281\n"
          ],
          "name": "stdout"
        }
      ]
    },
    {
      "cell_type": "code",
      "metadata": {
        "colab": {
          "base_uri": "https://localhost:8080/",
          "height": 590
        },
        "id": "KN9JSO017ulN",
        "outputId": "2ee148a2-2fcb-494d-84ae-6c569180a1bd"
      },
      "source": [
        "print(history.history.keys())\n",
        "# summarize history for accuracy\n",
        "plt.plot(history.history['accuracy'])\n",
        "plt.title('model accuracy')\n",
        "plt.ylabel('accuracy')\n",
        "plt.xlabel('epoch')\n",
        "plt.legend(['train', 'test'], loc='upper left')\n",
        "plt.show()\n",
        "# summarize history for loss\n",
        "plt.plot(history.history['loss'])\n",
        "plt.plot(history.history['val_loss'])\n",
        "plt.title('model loss')\n",
        "plt.ylabel('loss')\n",
        "plt.xlabel('epoch')\n",
        "plt.legend(['train', 'test'], loc='upper left')\n",
        "plt.show()"
      ],
      "execution_count": null,
      "outputs": [
        {
          "output_type": "stream",
          "text": [
            "dict_keys(['loss', 'accuracy', 'val_loss', 'val_accuracy'])\n"
          ],
          "name": "stdout"
        },
        {
          "output_type": "display_data",
          "data": {
            "image/png": "[encoded data removed]",
            "text/plain": [
              "<Figure size 432x288 with 1 Axes>"
            ]
          },
          "metadata": {
            "tags": [],
            "needs_background": "light"
          }
        },
        {
          "output_type": "display_data",
          "data": {
            "image/png": "[encoded data removed]",
            "text/plain": [
              "<Figure size 432x288 with 1 Axes>"
            ]
          },
          "metadata": {
            "tags": [],
            "needs_background": "light"
          }
        }
      ]
    }
  ]
}